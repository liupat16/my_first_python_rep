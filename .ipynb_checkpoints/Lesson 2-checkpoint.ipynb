{
 "cells": [
  {
   "cell_type": "code",
   "execution_count": 1,
   "metadata": {
    "collapsed": false
   },
   "outputs": [
    {
     "name": "stdout",
     "output_type": "stream",
     "text": [
      "金州勇士隊\n",
      "21\n",
      "4\n",
      "0.84\n",
      "True\n"
     ]
    }
   ],
   "source": [
    "team_name = \"金州勇士隊\"\n",
    "wins = 21\n",
    "losses = 4\n",
    "win_percentage = 0.84\n",
    "is_on_winning_streak = True\n",
    "\n",
    "golden_state_warriors = {\n",
    "    \"team_name\": team_name,\n",
    "    \"wins\": wins,\n",
    "    \"losses\": losses,\n",
    "    \"win_percentage\": win_percentage,\n",
    "    \"is_on_winning_streak\": is_on_winning_streak\n",
    "}\n",
    "\n",
    "# 利用鍵值選擇元素\n",
    "print(golden_state_warriors[\"team_name\"])\n",
    "print(golden_state_warriors[\"wins\"])\n",
    "print(golden_state_warriors[\"losses\"])\n",
    "print(golden_state_warriors[\"win_percentage\"])\n",
    "print(golden_state_warriors[\"is_on_winning_streak\"])"
   ]
  },
  {
   "cell_type": "code",
   "execution_count": 2,
   "metadata": {
    "collapsed": false
   },
   "outputs": [
    {
     "ename": "TypeError",
     "evalue": "can't multiply sequence by non-int of type 'float'",
     "output_type": "error",
     "traceback": [
      "\u001b[0;31m---------------------------------------------------------------------------\u001b[0m",
      "\u001b[0;31mTypeError\u001b[0m                                 Traceback (most recent call last)",
      "\u001b[0;32m<ipython-input-2-1f9c0b42f551>\u001b[0m in \u001b[0;36m<module>\u001b[0;34m()\u001b[0m\n\u001b[1;32m      1\u001b[0m \u001b[0mkm_list\u001b[0m \u001b[1;33m=\u001b[0m \u001b[1;33m[\u001b[0m\u001b[1;36m21\u001b[0m\u001b[1;33m,\u001b[0m \u001b[1;36m42.195\u001b[0m\u001b[1;33m]\u001b[0m\u001b[1;33m\u001b[0m\u001b[0m\n\u001b[1;32m      2\u001b[0m \u001b[0mkm_to_mile\u001b[0m \u001b[1;33m=\u001b[0m \u001b[1;36m0.621371192\u001b[0m\u001b[1;33m\u001b[0m\u001b[0m\n\u001b[0;32m----> 3\u001b[0;31m \u001b[0mmile_list\u001b[0m \u001b[1;33m=\u001b[0m \u001b[0mkm_list\u001b[0m \u001b[1;33m*\u001b[0m \u001b[0mkm_to_mile\u001b[0m\u001b[1;33m\u001b[0m\u001b[0m\n\u001b[0m",
      "\u001b[0;31mTypeError\u001b[0m: can't multiply sequence by non-int of type 'float'"
     ]
    }
   ],
   "source": [
    "km_list = [21, 42.195]\n",
    "km_to_mile = 0.621371192\n",
    "mile_list = km_list * km_to_mile\n"
   ]
  },
  {
   "cell_type": "code",
   "execution_count": 4,
   "metadata": {
    "collapsed": false
   },
   "outputs": [
    {
     "name": "stdout",
     "output_type": "stream",
     "text": [
      "<class 'numpy.ndarray'>\n",
      "[ 13.04879503  26.21875745]\n"
     ]
    }
   ],
   "source": [
    "import numpy\n",
    "\n",
    "km_list=[21,42.195]\n",
    "km_array=numpy.array(km_list)\n",
    "print(type(km_array))\n",
    "km_to_mile=0.621371192\n",
    "mile_array=km_array*km_to_mile\n",
    "print(mile_array)"
   ]
  },
  {
   "cell_type": "code",
   "execution_count": 5,
   "metadata": {
    "collapsed": false
   },
   "outputs": [
    {
     "name": "stdout",
     "output_type": "stream",
     "text": [
      "<class 'numpy.ndarray'>\n",
      "[ 13.04879503  26.21875745]\n"
     ]
    }
   ],
   "source": [
    "import numpy as np\n",
    "\n",
    "km_list = [21, 42.195]\n",
    "km_array = np.array(km_list)\n",
    "print(type(km_array))\n",
    "km_to_mile = 0.621371192\n",
    "mile_array = km_array * km_to_mile\n",
    "print(mile_array)"
   ]
  },
  {
   "cell_type": "code",
   "execution_count": 11,
   "metadata": {
    "collapsed": false
   },
   "outputs": [
    {
     "name": "stdout",
     "output_type": "stream",
     "text": [
      "int32\n",
      "<U11\n"
     ]
    }
   ],
   "source": [
    "import numpy as np\n",
    "\n",
    "my_np_array=np.array([1,True])\n",
    "print(my_np_array.dtype)\n",
    "my_np_array=np.array([1,True,\"one\"])\n",
    "print(my_np_array.dtype)"
   ]
  },
  {
   "cell_type": "code",
   "execution_count": 14,
   "metadata": {
    "collapsed": false
   },
   "outputs": [
    {
     "name": "stdout",
     "output_type": "stream",
     "text": [
      "[1 2 3 4]\n",
      "[ 1  4  9 16]\n",
      "[[1 3]\n",
      " [2 4]]\n",
      "[[ 1  9]\n",
      " [ 4 16]]\n"
     ]
    }
   ],
   "source": [
    "import numpy as np\n",
    "\n",
    "my_np_array=np.array([1,2,3,4])\n",
    "print(my_np_array)\n",
    "print(my_np_array**2)\n",
    "\n",
    "my_2d_array=np.array([[1,3],\n",
    "                      [2,4]])\n",
    "print(my_2d_array)\n",
    "print(my_2d_array**2)"
   ]
  },
  {
   "cell_type": "code",
   "execution_count": 17,
   "metadata": {
    "collapsed": false
   },
   "outputs": [
    {
     "name": "stdout",
     "output_type": "stream",
     "text": [
      "1\n",
      "3\n"
     ]
    }
   ],
   "source": [
    "import numpy as np\n",
    "\n",
    "my_np_array=np.array([1,2,3,4])\n",
    "print(my_np_array[0])\n",
    "\n",
    "my_2d_array=np.array([[1,3],\n",
    "                      [2,4]])\n",
    "print(my_2d_array[0,1])  #[列，欄]"
   ]
  },
  {
   "cell_type": "code",
   "execution_count": 30,
   "metadata": {
    "collapsed": false
   },
   "outputs": [
    {
     "name": "stdout",
     "output_type": "stream",
     "text": [
      "[1]\n",
      "[3 2 4]\n"
     ]
    },
    {
     "data": {
      "text/plain": [
       "array([[False,  True],\n",
       "       [ True,  True]], dtype=bool)"
      ]
     },
     "execution_count": 30,
     "metadata": {},
     "output_type": "execute_result"
    }
   ],
   "source": [
    "import numpy as np\n",
    "\n",
    "my_np_array=np.array([1,2,3,4])\n",
    "filter=my_np_array<2\n",
    "print(my_np_array[filter])\n",
    "\n",
    "my_2d_array=np.array([[1,3],\n",
    "                     [2,4]])\n",
    "filter=my_2d_array>=2\n",
    "print(my_2d_array[filter])\n",
    "filter"
   ]
  },
  {
   "cell_type": "code",
   "execution_count": 33,
   "metadata": {
    "collapsed": false
   },
   "outputs": [
    {
     "name": "stdout",
     "output_type": "stream",
     "text": [
      "4\n",
      "(4,)\n",
      "4\n",
      "(2, 2)\n"
     ]
    }
   ],
   "source": [
    "import numpy as np\n",
    "\n",
    "my_np_array=np.array([1,2,3,4])\n",
    "print(my_np_array.size)  #how many items\n",
    "print(my_np_array.shape)  #how many columns?\n",
    "\n",
    "my_2d_array=np.array([[1,3], \n",
    "                      [2,4]])\n",
    "print(my_2d_array.size)\n",
    "print(my_2d_array.shape)"
   ]
  },
  {
   "cell_type": "code",
   "execution_count": 40,
   "metadata": {
    "collapsed": false
   },
   "outputs": [
    {
     "name": "stdout",
     "output_type": "stream",
     "text": [
      "<class 'pandas.core.frame.DataFrame'>\n"
     ]
    },
    {
     "data": {
      "text/html": [
       "<div>\n",
       "<table border=\"1\" class=\"dataframe\">\n",
       "  <thead>\n",
       "    <tr style=\"text-align: right;\">\n",
       "      <th></th>\n",
       "      <th>age</th>\n",
       "      <th>name</th>\n",
       "    </tr>\n",
       "  </thead>\n",
       "  <tbody>\n",
       "    <tr>\n",
       "      <th>0</th>\n",
       "      <td>19</td>\n",
       "      <td>Monkey D. Luffy</td>\n",
       "    </tr>\n",
       "    <tr>\n",
       "      <th>1</th>\n",
       "      <td>21</td>\n",
       "      <td>Roronoa Zoro</td>\n",
       "    </tr>\n",
       "    <tr>\n",
       "      <th>2</th>\n",
       "      <td>20</td>\n",
       "      <td>Nami</td>\n",
       "    </tr>\n",
       "    <tr>\n",
       "      <th>3</th>\n",
       "      <td>19</td>\n",
       "      <td>Usopp</td>\n",
       "    </tr>\n",
       "    <tr>\n",
       "      <th>4</th>\n",
       "      <td>21</td>\n",
       "      <td>Vinsmoke Sanji</td>\n",
       "    </tr>\n",
       "    <tr>\n",
       "      <th>5</th>\n",
       "      <td>17</td>\n",
       "      <td>Tony Tony Chopper</td>\n",
       "    </tr>\n",
       "    <tr>\n",
       "      <th>6</th>\n",
       "      <td>30</td>\n",
       "      <td>Nico Robin</td>\n",
       "    </tr>\n",
       "    <tr>\n",
       "      <th>7</th>\n",
       "      <td>36</td>\n",
       "      <td>Franky</td>\n",
       "    </tr>\n",
       "    <tr>\n",
       "      <th>8</th>\n",
       "      <td>90</td>\n",
       "      <td>Brook</td>\n",
       "    </tr>\n",
       "  </tbody>\n",
       "</table>\n",
       "</div>"
      ],
      "text/plain": [
       "   age               name\n",
       "0   19    Monkey D. Luffy\n",
       "1   21       Roronoa Zoro\n",
       "2   20               Nami\n",
       "3   19              Usopp\n",
       "4   21     Vinsmoke Sanji\n",
       "5   17  Tony Tony Chopper\n",
       "6   30         Nico Robin\n",
       "7   36             Franky\n",
       "8   90              Brook"
      ]
     },
     "execution_count": 40,
     "metadata": {},
     "output_type": "execute_result"
    }
   ],
   "source": [
    "import pandas as pd\n",
    "\n",
    "name = [\"Monkey D. Luffy\", \"Roronoa Zoro\", \"Nami\", \"Usopp\", \"Vinsmoke Sanji\", \"Tony Tony Chopper\", \"Nico Robin\", \"Franky\", \"Brook\"]\n",
    "age = [19, 21, 20, 19, 21, 17, 30, 36, 90]\n",
    "\n",
    "straw_hat_dict={\"name\":name, \n",
    "                \"age\":age\n",
    "}\n",
    "\n",
    "#type(straw_hat_dict)\n",
    "\n",
    "straw_hat_df=pd.DataFrame(straw_hat_dict)\n",
    "print(type(straw_hat_df))\n",
    "straw_hat_df"
   ]
  },
  {
   "cell_type": "code",
   "execution_count": 42,
   "metadata": {
    "collapsed": false
   },
   "outputs": [
    {
     "name": "stdout",
     "output_type": "stream",
     "text": [
      "age         int64\n",
      "is_male      bool\n",
      "name       object\n",
      "dtype: object\n"
     ]
    }
   ],
   "source": [
    "import pandas as pd\n",
    "\n",
    "name = [\"Monkey D. Luffy\", \"Roronoa Zoro\", \"Nami\", \"Usopp\", \"Vinsmoke Sanji\", \"Tony Tony Chopper\", \"Nico Robin\", \"Franky\", \"Brook\"]\n",
    "age = [19, 21, 20, 19, 21, 17, 30, 36, 90]\n",
    "is_male = [True, True, False, True, True, True, False, True, True]\n",
    "\n",
    "straw_hat_dict={\"name\":name, \n",
    "                \"age\":age, \n",
    "                \"is_male\":is_male\n",
    "               }\n",
    "\n",
    "straw_hat_df=pd.DataFrame(straw_hat_dict)\n",
    "\n",
    "print(straw_hat_df.dtypes)"
   ]
  },
  {
   "cell_type": "code",
   "execution_count": 50,
   "metadata": {
    "collapsed": false
   },
   "outputs": [
    {
     "name": "stdout",
     "output_type": "stream",
     "text": [
      "Monkey D. Luffy\n"
     ]
    }
   ],
   "source": [
    "import pandas as pd\n",
    "\n",
    "name = [\"Monkey D. Luffy\", \"Roronoa Zoro\", \"Nami\", \"Usopp\", \"Vinsmoke Sanji\", \"Tony Tony Chopper\", \"Nico Robin\", \"Franky\", \"Brook\"]\n",
    "age = [19, 21, 20, 19, 21, 17, 30, 36, 90]\n",
    "is_male = [True, True, False, True, True, True, False, True, True]\n",
    "\n",
    "straw_hat_dict={\"name\":name, \n",
    "                \"age\":age, \n",
    "                \"is_male\":is_male\n",
    "               }\n",
    "\n",
    "straw_hat_df=pd.DataFrame(straw_hat_dict)\n",
    "\n",
    "#print(straw_hat_df.ix[0,:])\n",
    "#print(straw_hat_df.ix[:,\"name\"])\n",
    "print(straw_hat_df.ix[0,\"name\"])"
   ]
  },
  {
   "cell_type": "code",
   "execution_count": 57,
   "metadata": {
    "collapsed": false
   },
   "outputs": [
    {
     "data": {
      "text/html": [
       "<div>\n",
       "<table border=\"1\" class=\"dataframe\">\n",
       "  <thead>\n",
       "    <tr style=\"text-align: right;\">\n",
       "      <th></th>\n",
       "      <th>age</th>\n",
       "      <th>is_male</th>\n",
       "      <th>name</th>\n",
       "    </tr>\n",
       "  </thead>\n",
       "  <tbody>\n",
       "    <tr>\n",
       "      <th>2</th>\n",
       "      <td>20</td>\n",
       "      <td>False</td>\n",
       "      <td>Nami</td>\n",
       "    </tr>\n",
       "    <tr>\n",
       "      <th>6</th>\n",
       "      <td>30</td>\n",
       "      <td>False</td>\n",
       "      <td>Nico Robin</td>\n",
       "    </tr>\n",
       "  </tbody>\n",
       "</table>\n",
       "</div>"
      ],
      "text/plain": [
       "   age is_male        name\n",
       "2   20   False        Nami\n",
       "6   30   False  Nico Robin"
      ]
     },
     "execution_count": 57,
     "metadata": {},
     "output_type": "execute_result"
    }
   ],
   "source": [
    "import pandas as pd\n",
    "\n",
    "name = [\"Monkey D. Luffy\", \"Roronoa Zoro\", \"Nami\", \"Usopp\", \"Vinsmoke Sanji\", \"Tony Tony Chopper\", \"Nico Robin\", \"Franky\", \"Brook\"]\n",
    "age = [19, 21, 20, 19, 21, 17, 30, 36, 90]\n",
    "is_male = [True, True, False, True, True, True, False, True, True]\n",
    "\n",
    "straw_hat_dict={\"name\":name, \n",
    "                \"age\":age, \n",
    "                \"is_male\":is_male\n",
    "               }\n",
    "\n",
    "straw_hat_df=pd.DataFrame(straw_hat_dict)\n",
    "\n",
    "filter=straw_hat_df.ix[:,\"age\"]<=30\n",
    "straw_hat_df[filter]\n",
    "\n",
    "filter=straw_hat_df.ix[:,\"is_male\"]==False\n",
    "straw_hat_df[filter]"
   ]
  },
  {
   "cell_type": "code",
   "execution_count": 62,
   "metadata": {
    "collapsed": false
   },
   "outputs": [
    {
     "name": "stdout",
     "output_type": "stream",
     "text": [
      "(9, 3)\n",
      "             age\n",
      "count   9.000000\n",
      "mean   30.333333\n",
      "std    23.205603\n",
      "min    17.000000\n",
      "25%    19.000000\n",
      "50%    21.000000\n",
      "75%    30.000000\n",
      "max    90.000000\n",
      "   age is_male             name\n",
      "0   19    True  Monkey D. Luffy\n",
      "1   21    True     Roronoa Zoro\n",
      "2   20   False             Nami\n",
      "   age is_male        name\n",
      "6   30   False  Nico Robin\n",
      "7   36    True      Franky\n",
      "8   90    True       Brook\n",
      "Index(['age', 'is_male', 'name'], dtype='object')\n",
      "RangeIndex(start=0, stop=9, step=1)\n"
     ]
    }
   ],
   "source": [
    "import pandas as pd\n",
    "\n",
    "name = [\"Monkey D. Luffy\", \"Roronoa Zoro\", \"Nami\", \"Usopp\", \"Vinsmoke Sanji\", \"Tony Tony Chopper\", \"Nico Robin\", \"Franky\", \"Brook\"]\n",
    "age = [19, 21, 20, 19, 21, 17, 30, 36, 90]\n",
    "is_male = [True, True, False, True, True, True, False, True, True]\n",
    "\n",
    "straw_hat_dict={\"name\":name, \n",
    "                \"age\":age, \n",
    "                \"is_male\":is_male\n",
    "               }\n",
    "\n",
    "straw_hat_df=pd.DataFrame(straw_hat_dict)\n",
    "\n",
    "print(straw_hat_df.shape)\n",
    "print(straw_hat_df.describe())\n",
    "print(straw_hat_df.head(3))\n",
    "print(straw_hat_df.tail(3))\n",
    "print(straw_hat_df.columns)\n",
    "print(straw_hat_df.index)\n"
   ]
  },
  {
   "cell_type": "code",
   "execution_count": 63,
   "metadata": {
    "collapsed": false
   },
   "outputs": [
    {
     "name": "stdout",
     "output_type": "stream",
     "text": [
      "大西洋組\n",
      "中央組\n",
      "東南組\n",
      "西北組\n",
      "太平洋組\n",
      "西南組\n"
     ]
    }
   ],
   "source": [
    "nba_divs = [\"大西洋組\", \"中央組\", \"東南組\", \"西北組\", \"太平洋組\", \"西南組\"]\n",
    "\n",
    "print(nba_divs[0])\n",
    "print(nba_divs[1])\n",
    "print(nba_divs[2])\n",
    "print(nba_divs[3])\n",
    "print(nba_divs[4])\n",
    "print(nba_divs[5])"
   ]
  },
  {
   "cell_type": "code",
   "execution_count": 64,
   "metadata": {
    "collapsed": false
   },
   "outputs": [
    {
     "name": "stdout",
     "output_type": "stream",
     "text": [
      "大西洋組\n",
      "中央組\n",
      "東南組\n",
      "西北組\n",
      "太平洋組\n",
      "西南組\n"
     ]
    }
   ],
   "source": [
    "nba_divs = [\"大西洋組\", \"中央組\", \"東南組\", \"西北組\", \"太平洋組\", \"西南組\"]\n",
    "\n",
    "#一直複製貼上時可以使用迴圈\n",
    "for div in nba_divs:\n",
    "    print(div)"
   ]
  },
  {
   "cell_type": "code",
   "execution_count": 71,
   "metadata": {
    "collapsed": false
   },
   "outputs": [
    {
     "name": "stdout",
     "output_type": "stream",
     "text": [
      "5050\n",
      "100\n"
     ]
    }
   ],
   "source": [
    "x=0\n",
    "for i in range(1,101):\n",
    "    x=x+i\n",
    "print(x)\n",
    "print(i)"
   ]
  },
  {
   "cell_type": "code",
   "execution_count": null,
   "metadata": {
    "collapsed": true
   },
   "outputs": [],
   "source": []
  }
 ],
 "metadata": {
  "kernelspec": {
   "display_name": "Python 3",
   "language": "python",
   "name": "python3"
  },
  "language_info": {
   "codemirror_mode": {
    "name": "ipython",
    "version": 3
   },
   "file_extension": ".py",
   "mimetype": "text/x-python",
   "name": "python",
   "nbconvert_exporter": "python",
   "pygments_lexer": "ipython3",
   "version": "3.5.2"
  }
 },
 "nbformat": 4,
 "nbformat_minor": 1
}
