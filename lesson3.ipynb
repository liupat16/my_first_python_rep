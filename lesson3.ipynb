{
 "cells": [
  {
   "cell_type": "code",
   "execution_count": 1,
   "metadata": {
    "collapsed": false
   },
   "outputs": [
    {
     "name": "stdout",
     "output_type": "stream",
     "text": [
      "5050\n",
      "100\n"
     ]
    }
   ],
   "source": [
    "x=0\n",
    "for i in range(0,101):\n",
    "    x+=i\n",
    "print(x)\n",
    "print(i)"
   ]
  },
  {
   "cell_type": "code",
   "execution_count": 2,
   "metadata": {
    "collapsed": false
   },
   "outputs": [
    {
     "name": "stdout",
     "output_type": "stream",
     "text": [
      "5050\n",
      "99\n"
     ]
    }
   ],
   "source": [
    "aaa=range(1,101)\n",
    "x=0\n",
    "for i in range(len(aaa)):\n",
    "    x+=aaa[i]\n",
    "print(x)\n",
    "print(i)"
   ]
  },
  {
   "cell_type": "code",
   "execution_count": 6,
   "metadata": {
    "collapsed": false
   },
   "outputs": [
    {
     "name": "stdout",
     "output_type": "stream",
     "text": [
      "5050\n",
      "100\n"
     ]
    }
   ],
   "source": [
    "aaa=range(1,101)\n",
    "x=0\n",
    "i=0\n",
    "while i<len(aaa):\n",
    "    x+=aaa[i]\n",
    "    i+=1\n",
    "print(x)\n",
    "print(i)"
   ]
  },
  {
   "cell_type": "code",
   "execution_count": 11,
   "metadata": {
    "collapsed": false
   },
   "outputs": [
    {
     "name": "stdout",
     "output_type": "stream",
     "text": [
      "19\n",
      "21\n",
      "20\n",
      "19\n",
      "21\n",
      "17\n",
      "30\n"
     ]
    }
   ],
   "source": [
    "ages = [19, 21, 20, 19, 21, 17, 30, 36, 90]\n",
    "for age in ages:\n",
    "    if age>30:\n",
    "        break\n",
    "    else:\n",
    "        print(age)"
   ]
  },
  {
   "cell_type": "code",
   "execution_count": 16,
   "metadata": {
    "collapsed": false
   },
   "outputs": [
    {
     "name": "stdout",
     "output_type": "stream",
     "text": [
      "1\n",
      "2\n",
      "3\n",
      "4\n",
      "5\n",
      "6\n",
      "8\n",
      "9\n",
      "10\n",
      "11\n",
      "12\n",
      "13\n",
      "15\n",
      "16\n",
      "17\n",
      "18\n",
      "19\n",
      "20\n",
      "22\n",
      "23\n",
      "24\n",
      "25\n",
      "26\n",
      "27\n",
      "29\n",
      "30\n",
      "31\n",
      "32\n",
      "33\n",
      "34\n",
      "36\n",
      "37\n",
      "38\n",
      "39\n",
      "40\n",
      "41\n",
      "43\n",
      "44\n",
      "45\n",
      "46\n",
      "47\n",
      "48\n",
      "50\n",
      "51\n",
      "52\n",
      "53\n",
      "54\n",
      "55\n",
      "57\n",
      "58\n",
      "59\n",
      "60\n",
      "61\n",
      "62\n",
      "64\n",
      "65\n",
      "66\n",
      "67\n",
      "68\n",
      "69\n",
      "71\n",
      "72\n",
      "73\n",
      "74\n",
      "75\n",
      "76\n",
      "78\n",
      "79\n",
      "80\n",
      "81\n",
      "82\n",
      "83\n",
      "85\n",
      "86\n",
      "87\n",
      "88\n",
      "89\n",
      "90\n",
      "92\n",
      "93\n",
      "94\n",
      "95\n",
      "96\n",
      "97\n",
      "99\n",
      "100\n"
     ]
    }
   ],
   "source": [
    "aaa=range(1,101)\n",
    "for i in aaa:\n",
    "    if i%7!=0:\n",
    "        print(i)\n",
    "    else:\n",
    "        continue"
   ]
  },
  {
   "cell_type": "code",
   "execution_count": 11,
   "metadata": {
    "collapsed": false,
    "scrolled": false
   },
   "outputs": [
    {
     "name": "stdout",
     "output_type": "stream",
     "text": [
      "21\n",
      "20\n",
      "21\n",
      "30\n"
     ]
    }
   ],
   "source": [
    "ages = [19, 21, 20, 19, 21, 17, 30, 36, 90]\n",
    "for age in ages:\n",
    "    if age>30:\n",
    "        continue\n",
    "    \n",
    "    elif age<20:\n",
    "        continue\n",
    "    \n",
    "    else:\n",
    "        print(age)"
   ]
  },
  {
   "cell_type": "code",
   "execution_count": 12,
   "metadata": {
    "collapsed": false
   },
   "outputs": [
    {
     "name": "stdout",
     "output_type": "stream",
     "text": [
      "(28.274333882308138, 18.84955592153876)\n",
      "(28.274333882308138, 18.84955592153876)\n"
     ]
    }
   ],
   "source": [
    "import math\n",
    "\n",
    "def circle_calculate (radius,area=True):\n",
    "    circle_area=math.pi*radius**2\n",
    "    circle_circum=2*math.pi*radius\n",
    "    return circle_area,circle_circum\n",
    "my_radius=3\n",
    "print(circle_calculate(my_radius))"
   ]
  },
  {
   "cell_type": "code",
   "execution_count": 11,
   "metadata": {
    "collapsed": false
   },
   "outputs": [
    {
     "name": "stdout",
     "output_type": "stream",
     "text": [
      "5.5\n"
     ]
    }
   ],
   "source": [
    "def my_mean(input_list):\n",
    "    def my_sum(input_list):\n",
    "        temp_sum=0\n",
    "        for i in input_list:\n",
    "            temp_sum+=i\n",
    "        return temp_sum\n",
    "    def my_length(input_list):\n",
    "        temp_length=0\n",
    "        for i in input_list:\n",
    "            temp_length+=1\n",
    "        return temp_length\n",
    "    return my_sum(input_list)/my_length(input_list)\n",
    "\n",
    "a=range(1,11)\n",
    "print(my_mean(a))"
   ]
  },
  {
   "cell_type": "code",
   "execution_count": 13,
   "metadata": {
    "collapsed": false
   },
   "outputs": [
    {
     "name": "stdout",
     "output_type": "stream",
     "text": [
      "請輸入數值。\n"
     ]
    }
   ],
   "source": [
    "import math # 要使用 pi 得引入套件 math\n",
    "\n",
    "# 定義自訂函數\n",
    "def circle_calculate(radius):\n",
    "    '依據輸入的半徑同時計算並回傳圓形的面積或周長' # 單行的 docstring\n",
    "    try:\n",
    "        circle_area = math.pi * radius**2\n",
    "        circle_circum = 2 * math.pi * radius\n",
    "        return circle_area, circle_circum\n",
    "    except:\n",
    "        print(\"請輸入數值。\")\n",
    "\n",
    "# 呼叫自訂函數\n",
    "my_radius = \"3\"\n",
    "circle_calculate(my_radius)"
   ]
  },
  {
   "cell_type": "code",
   "execution_count": 26,
   "metadata": {
    "collapsed": false
   },
   "outputs": [
    {
     "data": {
      "text/html": [
       "<div>\n",
       "<table border=\"1\" class=\"dataframe\">\n",
       "  <thead>\n",
       "    <tr style=\"text-align: right;\">\n",
       "      <th></th>\n",
       "      <th>name</th>\n",
       "      <th>occupation</th>\n",
       "    </tr>\n",
       "  </thead>\n",
       "  <tbody>\n",
       "    <tr>\n",
       "      <th>0</th>\n",
       "      <td>蒙其·D·魯夫</td>\n",
       "      <td>船長</td>\n",
       "    </tr>\n",
       "    <tr>\n",
       "      <th>1</th>\n",
       "      <td>羅羅亞·索隆</td>\n",
       "      <td>劍士</td>\n",
       "    </tr>\n",
       "    <tr>\n",
       "      <th>2</th>\n",
       "      <td>娜美</td>\n",
       "      <td>航海士</td>\n",
       "    </tr>\n",
       "    <tr>\n",
       "      <th>3</th>\n",
       "      <td>騙人布</td>\n",
       "      <td>狙擊手</td>\n",
       "    </tr>\n",
       "    <tr>\n",
       "      <th>4</th>\n",
       "      <td>賓什莫克·香吉士</td>\n",
       "      <td>廚師</td>\n",
       "    </tr>\n",
       "    <tr>\n",
       "      <th>5</th>\n",
       "      <td>多尼多尼·喬巴</td>\n",
       "      <td>醫生</td>\n",
       "    </tr>\n",
       "    <tr>\n",
       "      <th>6</th>\n",
       "      <td>妮可·羅賓</td>\n",
       "      <td>考古學家</td>\n",
       "    </tr>\n",
       "    <tr>\n",
       "      <th>7</th>\n",
       "      <td>佛朗基</td>\n",
       "      <td>船匠</td>\n",
       "    </tr>\n",
       "    <tr>\n",
       "      <th>8</th>\n",
       "      <td>布魯克</td>\n",
       "      <td>音樂家</td>\n",
       "    </tr>\n",
       "  </tbody>\n",
       "</table>\n",
       "</div>"
      ],
      "text/plain": [
       "       name occupation\n",
       "0   蒙其·D·魯夫         船長\n",
       "1    羅羅亞·索隆         劍士\n",
       "2        娜美        航海士\n",
       "3       騙人布        狙擊手\n",
       "4  賓什莫克·香吉士         廚師\n",
       "5   多尼多尼·喬巴         醫生\n",
       "6     妮可·羅賓       考古學家\n",
       "7       佛朗基         船匠\n",
       "8       布魯克        音樂家"
      ]
     },
     "execution_count": 26,
     "metadata": {},
     "output_type": "execute_result"
    }
   ],
   "source": [
    "import pandas as pd\n",
    "\n",
    "name = [\"蒙其·D·魯夫\", \"羅羅亞·索隆\", \"娜美\", \"騙人布\", \"賓什莫克·香吉士\", \"多尼多尼·喬巴\", \"妮可·羅賓\", \"佛朗基\", \"布魯克\"]\n",
    "occupation = [\"船長\", \"劍士\", \"航海士\", \"狙擊手\", \"廚師\", \"醫生\", \"考古學家\", \"船匠\", \"音樂家\"]\n",
    "\n",
    "straw_hat_dict={\"name\":name, \n",
    "                \"occupation\":occupation\n",
    "}\n",
    "\n",
    "straw_hat_df=pd.DataFrame(straw_hat_dict)\n",
    "\n",
    "straw_hat_df\n",
    "\n"
   ]
  },
  {
   "cell_type": "code",
   "execution_count": 23,
   "metadata": {
    "collapsed": false
   },
   "outputs": [
    {
     "name": "stdout",
     "output_type": "stream",
     "text": [
      "age      int64\n",
      "name    object\n",
      "dtype: object\n",
      "   age      name\n",
      "0   19   蒙其·D·魯夫\n",
      "1   21    羅羅亞·索隆\n",
      "2   20        娜美\n",
      "3   19       騙人布\n",
      "4   21  賓什莫克·香吉士\n"
     ]
    }
   ],
   "source": [
    "import pandas as pd\n",
    "\n",
    "name = [\"蒙其·D·魯夫\", \"羅羅亞·索隆\", \"娜美\", \"騙人布\", \"賓什莫克·香吉士\", \"多尼多尼·喬巴\", \"妮可·羅賓\", \"佛朗基\", \"布魯克\"]\n",
    "age = [19, 21, 20, 19, 21, 17, 30, 36, 90]\n",
    "\n",
    "# 建立 dict\n",
    "straw_hat_dict = {\"name\": name,\n",
    "                  \"age\": age\n",
    "}\n",
    "\n",
    "# 建立 data frame\n",
    "straw_hat_df = pd.DataFrame(straw_hat_dict)\n",
    "print(straw_hat_df.dtypes) # straw_hat_df 有 dtypes 屬性\n",
    "print(straw_hat_df.head()) # straw_hat_df 有 head 方法"
   ]
  },
  {
   "cell_type": "code",
   "execution_count": 30,
   "metadata": {
    "collapsed": false,
    "scrolled": true
   },
   "outputs": [
    {
     "name": "stdout",
     "output_type": "stream",
     "text": [
      "蒙其·D·魯夫\n",
      "\n",
      "    這是一個叫做 Strawhat 的類別\n",
      "    \n",
      "21\n",
      "\n",
      "    這是一個叫做 Strawhat 的類別\n",
      "    \n"
     ]
    }
   ],
   "source": [
    "class Strawhat:\n",
    "    '''\n",
    "    這是一個叫做 Strawhat 的類別\n",
    "    '''\n",
    "    def __init__(self,name,age):\n",
    "        self.name=name\n",
    "        self.age=age\n",
    "\n",
    "luffy = Strawhat(\"蒙其·D·魯夫\", 19)\n",
    "zoro = Strawhat(\"羅羅亞·索隆\", 21)\n",
    "\n",
    "print(luffy.name)\n",
    "print(luffy.__doc__)\n",
    "print(zoro.age)\n",
    "print(zoro.__doc__)\n"
   ]
  },
  {
   "cell_type": "code",
   "execution_count": null,
   "metadata": {
    "collapsed": true
   },
   "outputs": [],
   "source": []
  }
 ],
 "metadata": {
  "kernelspec": {
   "display_name": "Python 3",
   "language": "python",
   "name": "python3"
  },
  "language_info": {
   "codemirror_mode": {
    "name": "ipython",
    "version": 3
   },
   "file_extension": ".py",
   "mimetype": "text/x-python",
   "name": "python",
   "nbconvert_exporter": "python",
   "pygments_lexer": "ipython3",
   "version": "3.5.2"
  }
 },
 "nbformat": 4,
 "nbformat_minor": 1
}
